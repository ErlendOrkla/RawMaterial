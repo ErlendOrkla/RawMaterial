{
 "cells": [
  {
   "cell_type": "code",
   "execution_count": 2,
   "metadata": {},
   "outputs": [],
   "source": [
    "import pandas as pd\n",
    "stpo = pd.read_csv(r'C:/Users/eheima/VSC/RawMaterial/stpo.csv', sep =\";\", dtype = str)\n",
    "mast = pd.read_csv(r'C:/Users/eheima/VSC/RawMaterial/mast.csv', sep =\";\",dtype = str)\n",
    "stas = pd.read_csv(r'C:/Users/eheima/VSC/RawMaterial/stas.csv', sep =\";\", dtype = str)"
   ]
  },
  {
   "cell_type": "code",
   "execution_count": 3,
   "metadata": {},
   "outputs": [],
   "source": [
    "\n",
    "mast['STLAL'] = pd.to_numeric(mast['STLAL'],errors = 'coerce')\n",
    "mast = mast[mast['STLAL'].notna()]\n",
    "mast = mast.sort_values(by = ['STLAL'], ascending = False)\n",
    "mast['Merged_matnr_werks'] = mast['MATNR'] + mast['WERKS']\n",
    "mast = mast.drop_duplicates('Merged_matnr_werks')\n",
    "\n",
    "\n",
    "\n",
    "mast = mast.set_index('Merged_matnr_werks', append=False,drop = False)\n",
    "\n",
    "mast['STLAL'] =mast['STLAL'].astype(int)\n",
    "mast['STLAL'] =mast['STLAL'].astype(str)\n",
    "\n",
    "stas['Merged_stlnr_stlal'] = stas['STLNR'] + stas['STLAL']\n",
    "stas = stas.set_index('Merged_stlnr_stlal', append = False, drop = False)\n",
    "is_not_x = stas['LKENZ']!='X'\n",
    "stas = stas[is_not_x]\n",
    "is_not_X_stpo = stpo['LKENZ']!='X'\n",
    "stpo = stpo[is_not_X_stpo]\n",
    "stpo = pd.DataFrame(stpo)\n",
    "\n",
    "def find_stpo_rows (id, stas, stpo):\n",
    "    row = mast.loc[id]\n",
    "    matnr = row['MATNR']\n",
    "    stlnr = row['STLNR'] \n",
    "    stlal = row['STLAL']\n",
    "    lookup_value = stlnr + stlal\n",
    "    \n",
    "    lookuprows = pd.DataFrame(stas.loc[lookup_value])\n",
    "\n",
    "\n",
    "    lookuprows['Merged_stlnr_stlkn'] = lookuprows['STLNR']+lookuprows['STLKN']\n",
    "    stpo_lookup = lookuprows['Merged_stlnr_stlkn']\n",
    "\n",
    "    stpo['Merged_stlnr_stlkn'] = stpo['STLNR'] + stpo['STLKN']\n",
    "    stpo  =  stpo.set_index('Merged_stlnr_stlkn', append = False, drop = False)\n",
    "\n",
    "    stpo_selected = stpo.loc[stpo_lookup]\n",
    "    stpo_selected = pd.DataFrame(stpo_selected)\n",
    "    stpo_selected['STPOZ'] = stpo_selected['STPOZ'].astype(int)\n",
    "    stpo_selected = stpo_selected.sort_values(by = ['STPOZ'], ascending = False)\n",
    "    stpo_selected = stpo_selected.drop_duplicates(subset = 'POSNR')\n",
    "    bom_items = stpo_selected['IDNRK'].tolist()\n",
    "    result = {matnr: bom_items}\n",
    "    \n",
    "    return result\n",
    "        \n",
    "\n",
    "#mast_1 =pd.DataFrame( mast.set_index('MATNR', append = False, drop = False))"
   ]
  },
  {
   "cell_type": "code",
   "execution_count": 4,
   "metadata": {},
   "outputs": [],
   "source": [
    "import concurrent.futures\n",
    "dict_all = {}\n",
    "with concurrent.futures.ThreadPoolExecutor() as executor:\n",
    "    \n",
    "    future_to_url = {executor.submit(find_stpo_rows,id,stas,stpo):id for id in mast['Merged_matnr_werks']}\n",
    " \n",
    "    for future in concurrent.futures.as_completed(future_to_url):\n",
    "        try:\n",
    "            dict_all.update(future.result())\n",
    "        except:\n",
    "            pass"
   ]
  },
  {
   "cell_type": "code",
   "execution_count": 174,
   "metadata": {},
   "outputs": [
    {
     "name": "stdout",
     "output_type": "stream",
     "text": [
      "362\n"
     ]
    }
   ],
   "source": [
    "print(len(dict_all))\n",
    "df = pd.DataFrame([dict_all]).T"
   ]
  },
  {
   "cell_type": "code",
   "execution_count": 175,
   "metadata": {},
   "outputs": [],
   "source": [
    "df.index = df.index.set_names('level 1')\n",
    "df.columns = ['level 2']\n",
    "df = df.reset_index()"
   ]
  },
  {
   "cell_type": "code",
   "execution_count": 176,
   "metadata": {},
   "outputs": [],
   "source": [
    "df = df.explode('level 2')\n",
    "df= df.set_index('level 2', append = False, drop= False)"
   ]
  },
  {
   "cell_type": "code",
   "execution_count": 178,
   "metadata": {},
   "outputs": [],
   "source": [
    "#Functions for lopping\n",
    "def add_column (df_1, x):\n",
    "    \n",
    "    for i in df_1[f'level {x-1}']:\n",
    "        \n",
    "        temp_df = df_1[df_1['level 1']==i]\n",
    "    \n",
    "        if len(df_1[df_1['level 1']==i].index!=0):\n",
    "\n",
    "            ls = temp_df['level 2'].tolist()\n",
    "            \n",
    "            list_to_string = ','.join(map(str,ls))\n",
    "            df_1= df_1.set_index(f'level {x-1}', append = False, drop= False)\n",
    "            try:\n",
    "                df_1.loc[i,f'level {x}'] =list_to_string\n",
    "            except:\n",
    "                pass\n",
    "    df_1[f'level {x}'] = df_1[f'level {x}'].str.split(\",\")\n",
    "    df_1 = df_1.explode(f'level {x}')\n",
    "    return df_1"
   ]
  },
  {
   "cell_type": "code",
   "execution_count": 177,
   "metadata": {},
   "outputs": [
    {
     "ename": "UnboundLocalError",
     "evalue": "local variable 'df' referenced before assignment",
     "output_type": "error",
     "traceback": [
      "\u001b[1;31m---------------------------------------------------------------------------\u001b[0m",
      "\u001b[1;31mUnboundLocalError\u001b[0m                         Traceback (most recent call last)",
      "\u001b[1;32m~\\AppData\\Local\\Temp/ipykernel_3936/280123623.py\u001b[0m in \u001b[0;36m<module>\u001b[1;34m\u001b[0m\n\u001b[1;32m----> 1\u001b[1;33m \u001b[0mdf\u001b[0m \u001b[1;33m=\u001b[0m \u001b[0madd_column\u001b[0m\u001b[1;33m(\u001b[0m\u001b[0mdf\u001b[0m\u001b[1;33m,\u001b[0m\u001b[1;36m3\u001b[0m\u001b[1;33m)\u001b[0m\u001b[1;33m\u001b[0m\u001b[1;33m\u001b[0m\u001b[0m\n\u001b[0m",
      "\u001b[1;32m~\\AppData\\Local\\Temp/ipykernel_3936/3514973380.py\u001b[0m in \u001b[0;36madd_column\u001b[1;34m(df_1, x)\u001b[0m\n\u001b[0;32m     16\u001b[0m             \u001b[1;32mexcept\u001b[0m\u001b[1;33m:\u001b[0m\u001b[1;33m\u001b[0m\u001b[1;33m\u001b[0m\u001b[0m\n\u001b[0;32m     17\u001b[0m                 \u001b[1;32mpass\u001b[0m\u001b[1;33m\u001b[0m\u001b[1;33m\u001b[0m\u001b[0m\n\u001b[1;32m---> 18\u001b[1;33m     \u001b[0mdf\u001b[0m\u001b[1;33m[\u001b[0m\u001b[1;34mf'level {x}'\u001b[0m\u001b[1;33m]\u001b[0m \u001b[1;33m=\u001b[0m \u001b[0mdf\u001b[0m\u001b[1;33m[\u001b[0m\u001b[1;34mf'level {x}'\u001b[0m\u001b[1;33m]\u001b[0m\u001b[1;33m.\u001b[0m\u001b[0mstr\u001b[0m\u001b[1;33m.\u001b[0m\u001b[0msplit\u001b[0m\u001b[1;33m(\u001b[0m\u001b[1;34m\",\"\u001b[0m\u001b[1;33m)\u001b[0m\u001b[1;33m\u001b[0m\u001b[1;33m\u001b[0m\u001b[0m\n\u001b[0m\u001b[0;32m     19\u001b[0m     \u001b[0mdf\u001b[0m \u001b[1;33m=\u001b[0m \u001b[0mdf\u001b[0m\u001b[1;33m.\u001b[0m\u001b[0mexplode\u001b[0m\u001b[1;33m(\u001b[0m\u001b[1;34mf'level {x}'\u001b[0m\u001b[1;33m)\u001b[0m\u001b[1;33m\u001b[0m\u001b[1;33m\u001b[0m\u001b[0m\n\u001b[0;32m     20\u001b[0m     \u001b[1;32mreturn\u001b[0m \u001b[0mdf\u001b[0m\u001b[1;33m\u001b[0m\u001b[1;33m\u001b[0m\u001b[0m\n",
      "\u001b[1;31mUnboundLocalError\u001b[0m: local variable 'df' referenced before assignment"
     ]
    }
   ],
   "source": [
    "df = add_column(df,3)"
   ]
  },
  {
   "cell_type": "code",
   "execution_count": 179,
   "metadata": {},
   "outputs": [],
   "source": [
    "x=2\n",
    "while df[f'level {x}'].isnull().all()!=True:\n",
    "    x = x+1\n",
    "    try:\n",
    "        df = add_column(df,x)\n",
    "    except:\n",
    "        break"
   ]
  },
  {
   "cell_type": "code",
   "execution_count": 118,
   "metadata": {},
   "outputs": [
    {
     "name": "stdout",
     "output_type": "stream",
     "text": [
      "['000000000000710366', '000000000000712693', '000000000000042561', '000000000000711799', '000000000000042532', '000000000000042531', '000000000000712173', '000000000000710377', '000000000000042513', '000000000000042562', '000000000000042237', '000000000000710190', '000000000000710119', '000000000000713344', '000000000000712128', '000000000000712120', '000000000000042522', '000000000000042220', '000000000000042528', '000000000000042555', '000000000000042537', '000000000000042565', '000000000000713347', '000000000000713346', '000000000000042564', '000000000000042119', '000000000000042529', '000000000000710229', '000000000000710233', '000000000000042227', '000000000000710402', '000000000000042504', '000000000000042503', '000000000000042512', '000000000000042509', '000000000000042518', '000000000000042515', '000000000000042566', '000000000000713637', '000000000000713619', '000000000000713289', '000000000000042523', '000000000000042514', '000000000000713422', '000000000000042535', '000000000000042558', '000000000000043004', '000000000000042559', '000000000000710291', '000000000000713298', '000000000000710406', '000000000000712118', '000000000000712127', '000000000000042560', '000000000000711772', '000000000000713288', '000000000000042538', '000000000000713087', '000000000000042546', '000000000000713090', '000000000000713077', '000000000000042505', '000000000000042517', '000000000000712680', '000000000000713088', '000000000000712119', '000000000000713084', '000000000000710138', '000000000000712923', '000000000000042511', '000000000000042563', '000000000000042235', '000000000000713237', '000000000000713418', '000000000000042551', '000000000000712613', '000000000000042550', '000000000000042527', '000000000000042552', '000000000000042549', '000000000000042534', '000000000000042548', '000000000000713720', '000000000000710232', '000000000000042123', '000000000000713641', '000000000000042520', '000000000000042510', '000000000000710199', '000000000000042530', '000000000000042502', '000000000000713421', '000000000000042521', '000000000000042507', '000000000000710367', '000000000000713719', '000000000000042506']\n"
     ]
    }
   ],
   "source": [
    "lis = []\n",
    "for i in df['level 2']:\n",
    "    \n",
    "    temp_df = df[df['level 1']==i]\n",
    "   \n",
    "    if len(df[df['level 1']==i].index!=0):\n",
    "        lis.append(i)\n",
    "        ls = temp_df['level 2'].tolist()\n",
    "        \n",
    "        doubleList =[]\n",
    "        for j in ls:\n",
    "            doubleList.append(f\"{j}\")\n",
    "        list_to_string = ','.join(map(str,ls))\n",
    "\n",
    "        try:\n",
    "            df.loc[i,'level 3'] =list_to_string\n",
    "        except:\n",
    "            pass\n",
    "print(list(dict.fromkeys(lis)))"
   ]
  },
  {
   "cell_type": "code",
   "execution_count": 119,
   "metadata": {},
   "outputs": [],
   "source": [
    "df['level 3'] = df['level 3'].str.split(\",\")\n",
    "df = df.explode('level 3')"
   ]
  },
  {
   "cell_type": "code",
   "execution_count": 143,
   "metadata": {},
   "outputs": [],
   "source": [
    "df.to_csv(\"C:/Users/eheima/test_raw.csv\")"
   ]
  },
  {
   "cell_type": "code",
   "execution_count": null,
   "metadata": {},
   "outputs": [],
   "source": []
  }
 ],
 "metadata": {
  "interpreter": {
   "hash": "69eb377f49d1ada339387c4ab6eb39a9638f01ca3549343b246e89f00597a8e0"
  },
  "kernelspec": {
   "display_name": "Python 3.9.10 64-bit (windows store)",
   "language": "python",
   "name": "python3"
  },
  "language_info": {
   "codemirror_mode": {
    "name": "ipython",
    "version": 3
   },
   "file_extension": ".py",
   "mimetype": "text/x-python",
   "name": "python",
   "nbconvert_exporter": "python",
   "pygments_lexer": "ipython3",
   "version": "3.9.6"
  },
  "orig_nbformat": 4
 },
 "nbformat": 4,
 "nbformat_minor": 2
}
